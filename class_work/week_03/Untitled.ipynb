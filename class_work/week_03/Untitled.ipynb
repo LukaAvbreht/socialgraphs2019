{
 "cells": [
  {
   "cell_type": "markdown",
   "metadata": {},
   "source": [
    "# Week 3 exercises\n",
    "\n",
    "## Part 1"
   ]
  },
  {
   "cell_type": "markdown",
   "metadata": {},
   "source": [
    "## Questions 1\n",
    "\n",
    "* What's the problem with random networks as a model for real-world networks according to the argument in section 3.5 (near the end)?\n",
    "* List the four regimes that characterize random networks as a function of ⟨k⟩.\n",
    "* According to the book, why is it a problem for random networks (in terms of being a model for real-world networks) that the degree-dependent clustering C(k) decreases as a function of k in real-world networks?"
   ]
  },
  {
   "cell_type": "markdown",
   "metadata": {},
   "source": [
    "## Answers 1\n",
    "\n",
    "* Random networks are much les clustered than real-life networks. The arqument is made that there al large number of nodes with high degree (people with lots of \"friends\", well connected nodes). More than random networks asume. \n",
    "* let ⟨k⟩ be the avarage degree of nodes. The four regimes are:\n",
    "    * distribution of degrees of nodes (binomial or poisson)\n",
    "    * clustering \n",
    "    * mean\n",
    "    * variance \n",
    "* The same answer as the answer for question 1? "
   ]
  },
  {
   "cell_type": "code",
   "execution_count": 36,
   "metadata": {},
   "outputs": [],
   "source": [
    "import networkx as nx\n",
    "import matplotlib.pyplot as plt\n",
    "import numpy as np\n",
    "import random\n",
    "%matplotlib inline"
   ]
  },
  {
   "cell_type": "markdown",
   "metadata": {},
   "source": [
    "1. First, let's use networkx to play around with WS graphs. Use nx.watts_strogatz_graph to generate 3 graphs with 500 nodes each, average degree = 4, and rewiring probablity p=0,0.1,and1. Calculate the average shortest path length ⟨d⟩ for each one. Describe what happens to the network when p=1."
   ]
  },
  {
   "cell_type": "code",
   "execution_count": 18,
   "metadata": {},
   "outputs": [
    {
     "name": "stdout",
     "output_type": "stream",
     "text": [
      "[21.787094188376752, 21.097739478957916, 25.277002004008015]\n",
      "4.786244488977956\n"
     ]
    }
   ],
   "source": [
    "# help(nx.watts_strogatz_graph)\n",
    "avrg_short_path = []\n",
    "\n",
    "for i in range(3):\n",
    "    smlaworld_graph_1 = nx.watts_strogatz_graph(n=500,k=4,p=0.01)\n",
    "    avrg_short_path.append(nx.average_shortest_path_length(smlaworld_graph_1))\n",
    "    \n",
    "print(avrg_short_path)\n",
    "\n",
    "smlaworld_graph_1 = nx.watts_strogatz_graph(n=500,k=4,p=1)\n",
    "print(nx.average_shortest_path_length(smlaworld_graph_1))\n",
    "\n",
    "\n",
    "# G = nx.complete_graph(5)\n",
    "# nx.draw(G, with_labels=True, font_weight='bold')\n",
    "# nx.average_shortest_path_length(G)\n",
    "\n"
   ]
  },
  {
   "cell_type": "markdown",
   "metadata": {},
   "source": [
    "When we increese the number probabbility of crossing to 1 (so it always happens), The avarage length of shorthest path is decreased significantly. (In our case from length of arround 22 nodes between any 2 nodes, to arround 5 nodes)"
   ]
  },
  {
   "cell_type": "code",
   "execution_count": 25,
   "metadata": {},
   "outputs": [
    {
     "name": "stdout",
     "output_type": "stream",
     "text": [
      "[(62.875751503006015, 0.0), (23.620503406813626, 5.272711861986053), (12.373471743486974, 1.2408554067677737), (10.469279358717433, 0.5583601128470511), (7.726013627254508, 0.38334583532885536), (6.170670941883768, 0.07527179143619292)]\n"
     ]
    }
   ],
   "source": [
    "P = [0,0.01,0.03,0.05,0.1,0.2]\n",
    "res = []\n",
    "\n",
    "for p in P:\n",
    "    trres = []\n",
    "    for _ in range(50):\n",
    "        trres.append(nx.average_shortest_path_length(nx.watts_strogatz_graph(n=500,k=4,p=p)))\n",
    "    trres = np.array(trres)\n",
    "    \n",
    "    res.append((np.average(trres),np.std(trres)))\n",
    "    \n",
    "print(res)"
   ]
  },
  {
   "cell_type": "code",
   "execution_count": 32,
   "metadata": {},
   "outputs": [
    {
     "data": {
      "image/png": "[encoded data removed]",
      "text/plain": [
       "<Figure size 432x288 with 1 Axes>"
      ]
     },
     "metadata": {
      "needs_background": "light"
     },
     "output_type": "display_data"
    }
   ],
   "source": [
    "\n",
    "plt.errorbar(P,[i[0] for i in res],yerr=[i[1] for i in res],color=\"b\",ecolor=\"r\")\n",
    "plt.show()\n"
   ]
  },
  {
   "cell_type": "markdown",
   "metadata": {},
   "source": [
    "## Part 2"
   ]
  },
  {
   "cell_type": "markdown",
   "metadata": {},
   "source": [
    "* What are the three slope dependent regimes of complex networks with power-law degree distributions? Briefly describe each one. (You will have to skim chp 5.7 to answer this one).\n",
    "* What are the three regimes we find in non-linear preferential attachement? (chapter 5) Briefly describe each one."
   ]
  },
  {
   "cell_type": "code",
   "execution_count": 34,
   "metadata": {},
   "outputs": [],
   "source": [
    "def create_Barabas_Albert_graph(n):\n",
    "    G = nx.Graph()\n",
    "    G.add_node(0)\n",
    "    \n",
    "    nx.draw(G)"
   ]
  },
  {
   "cell_type": "code",
   "execution_count": 44,
   "metadata": {},
   "outputs": [
    {
     "name": "stdout",
     "output_type": "stream",
     "text": [
      "Help on method choice in module random:\n",
      "\n",
      "choice(seq) method of random.Random instance\n",
      "    Choose a random element from a non-empty sequence.\n",
      "\n",
      "{0: 487, 100: 513}\n"
     ]
    }
   ],
   "source": [
    "#create_Barabas_Albert_graph(1)\n",
    "\n",
    "help(random.choice)\n",
    "\n",
    "a = {0:0,100:0}\n",
    "for i in range(1000):\n",
    "    k = random.choice([0,100])\n",
    "    a[k] += 1\n",
    "    \n",
    "print(a)\n"
   ]
  },
  {
   "cell_type": "code",
   "execution_count": null,
   "metadata": {},
   "outputs": [],
   "source": []
  }
 ],
 "metadata": {
  "kernelspec": {
   "display_name": "Python 3",
   "language": "python",
   "name": "python3"
  },
  "language_info": {
   "codemirror_mode": {
    "name": "ipython",
    "version": 3
   },
   "file_extension": ".py",
   "mimetype": "text/x-python",
   "name": "python",
   "nbconvert_exporter": "python",
   "pygments_lexer": "ipython3",
   "version": "3.7.3"
  }
 },
 "nbformat": 4,
 "nbformat_minor": 2
}
