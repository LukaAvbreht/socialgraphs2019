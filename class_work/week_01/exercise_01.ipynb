{
 "cells": [
  {
   "cell_type": "markdown",
   "metadata": {},
   "source": [
    "# The python exercises\n",
    "\n",
    "**Ex 0**: The Jupyter Notebooks are organized as a list of cells. There are two central kinds of cells, they are called **Code** and **Markdown**. The cell type can be set [using a keyboard shortcut](https://www.dataquest.io/blog/jupyter-notebook-tips-tricks-shortcuts/), or using the menus above.\n",
    "\n",
    "The **Code** cells simply contain the Python code, no big deal.\n",
    "\n",
    "The **Markdown** cells contain text (explanations, sections, etc). The text is written in Markdown. Markdown allows you to write using an easy-to-read, easy-to-write plain text format, then convert it to structurally valid XHTML (or HTML). You can read about it here:\n",
    "\n",
    "http://daringfireball.net/projects/markdown/\n",
    "\n",
    "In the cell below, write a short text that demonstrates that you can\n",
    "* Create a section\n",
    "* Write words in bold and italics\n",
    "* Create lists\n",
    "* Establish a [hyperlink](https://en.wikipedia.org/wiki/Hyperlink)"
   ]
  },
  {
   "cell_type": "markdown",
   "metadata": {},
   "source": [
    "# Ex1 answer\n",
    "\n",
    "Sure I can do thah\n",
    "\n",
    "`this is a box of text inline`\n",
    "\n",
    "``Big box for the whole line``\n",
    "\n",
    "A list of things:\n",
    "* item 1\n",
    "* item 2\n",
    "* **bold item 3**\n",
    "* *italic item 4*\n",
    "* [Awsome link](https://www.aflabs.si)"
   ]
  },
  {
   "cell_type": "markdown",
   "metadata": {},
   "source": [
    "**Ex 1**: Create a list `a` that contains the numbers from $1$ to $1110$, incremented by one, using the `range` function."
   ]
  },
  {
   "cell_type": "code",
   "execution_count": 3,
   "metadata": {},
   "outputs": [],
   "source": [
    "a = list(range(1,1111))"
   ]
  },
  {
   "cell_type": "markdown",
   "metadata": {},
   "source": [
    "**Ex 2**: Show that you understand [slicing](http://stackoverflow.com/questions/509211/explain-pythons-slice-notation) in Python by extracting a list `b` with the numbers from $543$ to $779$ from the list created above."
   ]
  },
  {
   "cell_type": "code",
   "execution_count": 7,
   "metadata": {},
   "outputs": [],
   "source": [
    "b = a[542:779]"
   ]
  },
  {
   "cell_type": "markdown",
   "metadata": {},
   "source": [
    "**Ex 3**: Using `def`, define a function that takes as input a number $x$ and outputs the number multiplied by itself plus three $f(x) = x(x+3)$. "
   ]
  },
  {
   "cell_type": "code",
   "execution_count": 12,
   "metadata": {},
   "outputs": [],
   "source": [
    "def f(x):\n",
    "    return x*(x + 3)"
   ]
  },
  {
   "cell_type": "markdown",
   "metadata": {},
   "source": [
    "**Ex 4**: Apply this function to every element of the list `b` using a `for` loop. "
   ]
  },
  {
   "cell_type": "code",
   "execution_count": 16,
   "metadata": {},
   "outputs": [],
   "source": [
    "for i in b:\n",
    "    f(i)"
   ]
  },
  {
   "cell_type": "markdown",
   "metadata": {},
   "source": [
    "**Ex 5**: Do the same thing using a list comprehension."
   ]
  },
  {
   "cell_type": "code",
   "execution_count": 18,
   "metadata": {},
   "outputs": [],
   "source": [
    "c = [f(i) for i in b]"
   ]
  },
  {
   "cell_type": "markdown",
   "metadata": {},
   "source": [
    "**Ex 6**: Write the output of your function to a text file with one number per line."
   ]
  },
  {
   "cell_type": "code",
   "execution_count": 22,
   "metadata": {},
   "outputs": [],
   "source": [
    "with open(\"some_file.txt\",\"w\") as izhod:\n",
    "    for ii in c:\n",
    "        izhod.write(str(ii) + \"\\n\")"
   ]
  },
  {
   "cell_type": "markdown",
   "metadata": {},
   "source": [
    "**Ex 7**: Show that you know about strings using this example from https://learnpythonthehardway.org/python3/ex6.html (code reproduced below).\n",
    "\n",
    "1. Go through the code below and write a code comment above each line explaining it.\n",
    "1. Find all the places where a string is put inside a string. There are four places.\n",
    "1. Are you sure there are only four places? How do you know? Maybe I like lying.\n",
    "1. Explain why adding the two strings w and e with + makes a longer string.\n",
    "\n",
    "\n",
    "[**Hint**: If you feel this is too complex, try completing the prior learningthehardway exercises first. Start [here](https://learnpythonthehardway.org/python3/ex1.html). "
   ]
  },
  {
   "cell_type": "code",
   "execution_count": 25,
   "metadata": {},
   "outputs": [
    {
     "name": "stdout",
     "output_type": "stream",
     "text": [
      "There are 10 types of people.\n",
      "Those who know binary and those who don't.\n",
      "I said: 'There are 10 types of people.'\n",
      "I said: There are 10 types of people.\n",
      "I also said: 'Those who know binary and those who don't.'\n",
      "Isn't that joke so funny?! False\n",
      "This is the left side of...a string with a right side.\n"
     ]
    }
   ],
   "source": [
    "# Note from Sune: In Python, code comments follow the \"#\" character\n",
    "\n",
    "# sets variable x to strign and replaces {!a} with 10\n",
    "x = \"There are {!a} types of people.\".format(10)\n",
    "# defines variable binary to bie string binary\n",
    "binary = \"binary\"\n",
    "# simmilar thing\n",
    "do_not = \"don't\"\n",
    "# f in front of string formats the string with variables binary and do_not parsed to strings (if they were not strings already)\n",
    "y = f\"Those who know {binary} and those who {do_not}.\"\n",
    "\n",
    "# prints valuse of variables x and y\n",
    "print(x)\n",
    "print(y)\n",
    "\n",
    "# the !r tells python to use the __repr__ method if it is defined (in this case it also gives \"\" characters, otherwise it would use __str__ method \n",
    "print(f\"I said: {x!r}\")\n",
    "print(f\"I also said: '{y}'\")\n",
    "\n",
    "# defining bool variable\n",
    "hilarious = False\n",
    "# defining string variable with placeholder that is empty (not numbered)\n",
    "joke_evaluation = \"Isn't that joke so funny?! {}\"\n",
    "\n",
    "# formats the joke_evaluation variable (that is string with placeholder with string representation of bool variable hilarious)\n",
    "print(joke_evaluation.format(hilarious))\n",
    "\n",
    "w = \"This is the left side of...\"\n",
    "e = \"a string with a right side.\"\n",
    "\n",
    "# contatonating strings\n",
    "print(w + e)"
   ]
  },
  {
   "cell_type": "markdown",
   "metadata": {},
   "source": [
    "*[Write the answer to **Ex 7**, 2-4 here]*\n",
    "1. there are 5 places. Just counting numbers of code: 1,4,7,8 and 11\n",
    "2. As I said there are 5 places\n",
    "3. contatonating strings does that to a string (usually). (If strings are all longer than 0 spaces) "
   ]
  },
  {
   "cell_type": "markdown",
   "metadata": {},
   "source": [
    "**Ex 8**: First, learn about JSON by reading the **[wikipedia page](https://en.wikipedia.org/wiki/JSON)**. Then answer the following two questions in the cell below. \n",
    "\n",
    "* What is `json`? What do the letters stand for?\n",
    "* Why is `json` superior to `xml`? (... or why not?)"
   ]
  },
  {
   "cell_type": "markdown",
   "metadata": {},
   "source": [
    "*[Write your answer to **Ex 8** here]*\n",
    "\n",
    "1. JavaScript Object Notation  or JSON for short\n",
    "2. It already has data parsed so javascript can read it. Nowdays it is a standard web api response type\n"
   ]
  },
  {
   "cell_type": "markdown",
   "metadata": {},
   "source": [
    "**Ex 9a**: Use the `json` module (instructions on usage here: https://docs.python.org/3/library/json.html). \n",
    "\n",
    "First use [`urllib.request`](https://docs.python.org/3/library/urllib.request.html#module-urllib.request) (see also https://stackoverflow.com/questions/7243750/download-file-from-web-in-python-3), or another Python library, to download **[this file](https://raw.githubusercontent.com/suneman/socialgraphs2019/master/files/test.json)**. \n",
    "\n",
    "The downloaded file is a string when you first download it, but you can use the `json` library to \"load\" the string and decode it to a Python object, using `json.loads()`. (The decoded string is a python object, a list with a single element, a dictionary (with nested dictionaries inside it))."
   ]
  },
  {
   "cell_type": "code",
   "execution_count": 38,
   "metadata": {},
   "outputs": [],
   "source": [
    "import json\n",
    "import urllib\n",
    "\n",
    "url = 'https://raw.githubusercontent.com/suneman/socialgraphs2019/master/files/test.json'\n",
    "data = urllib.request.urlopen(url).read()\n",
    "data = json.loads(data)"
   ]
  },
  {
   "cell_type": "markdown",
   "metadata": {},
   "source": [
    "**Ex 9b**: Now, let's take a look at the file you downloaded. First, just write the name of the variable that contains the decoded file content and hit enter to take a look at it. It's  the list of Twitter Trending topics, a few days ago."
   ]
  },
  {
   "cell_type": "code",
   "execution_count": 39,
   "metadata": {},
   "outputs": [
    {
     "data": {
      "text/plain": [
       "[{'created_at': '2015-08-24T08:32:44Z',\n",
       "  'trends': [{'url': 'http://twitter.com/search?q=%23rfcvff',\n",
       "    'query': '%23rfcvff',\n",
       "    'name': '#rfcvff',\n",
       "    'promoted_content': None},\n",
       "   {'url': 'http://twitter.com/search?q=%23EFBFCM',\n",
       "    'query': '%23EFBFCM',\n",
       "    'name': '#EFBFCM',\n",
       "    'promoted_content': None},\n",
       "   {'url': 'http://twitter.com/search?q=%23bifsje',\n",
       "    'query': '%23bifsje',\n",
       "    'name': '#bifsje',\n",
       "    'promoted_content': None},\n",
       "   {'url': 'http://twitter.com/search?q=nordstrand',\n",
       "    'query': 'nordstrand',\n",
       "    'name': 'nordstrand',\n",
       "    'promoted_content': None},\n",
       "   {'url': 'http://twitter.com/search?q=%23WhyILoveLiam',\n",
       "    'query': '%23WhyILoveLiam',\n",
       "    'name': '#WhyILoveLiam',\n",
       "    'promoted_content': None},\n",
       "   {'url': 'http://twitter.com/search?q=%23lv2015',\n",
       "    'query': '%23lv2015',\n",
       "    'name': '#lv2015',\n",
       "    'promoted_content': None},\n",
       "   {'url': 'http://twitter.com/search?q=%22Harald+Nielsen%22',\n",
       "    'query': '%22Harald+Nielsen%22',\n",
       "    'name': 'Harald Nielsen',\n",
       "    'promoted_content': None},\n",
       "   {'url': 'http://twitter.com/search?q=Fnatic',\n",
       "    'query': 'Fnatic',\n",
       "    'name': 'Fnatic',\n",
       "    'promoted_content': None},\n",
       "   {'url': 'http://twitter.com/search?q=Nash',\n",
       "    'query': 'Nash',\n",
       "    'name': 'Nash',\n",
       "    'promoted_content': None},\n",
       "   {'url': 'http://twitter.com/search?q=kjeldsen',\n",
       "    'query': 'kjeldsen',\n",
       "    'name': 'kjeldsen',\n",
       "    'promoted_content': None}],\n",
       "  'as_of': '2015-08-24T08:36:54Z',\n",
       "  'locations': [{'woeid': 23424796, 'name': 'Denmark'}]}]"
      ]
     },
     "execution_count": 39,
     "metadata": {},
     "output_type": "execute_result"
    }
   ],
   "source": [
    "data"
   ]
  },
  {
   "cell_type": "markdown",
   "metadata": {},
   "source": [
    "**Ex 9c**: The thing you've just decoded is now a list of length 1. What are the names of the keys organizing the dictionary at position 0 in the list? (Just write the code to produce the answer.) \n",
    "\n",
    "**Hint** use the `.keys()` method to easily get the keys of any dictionary."
   ]
  },
  {
   "cell_type": "code",
   "execution_count": 41,
   "metadata": {},
   "outputs": [
    {
     "data": {
      "text/plain": [
       "['created_at', 'trends', 'as_of', 'locations']"
      ]
     },
     "execution_count": 41,
     "metadata": {},
     "output_type": "execute_result"
    }
   ],
   "source": [
    "list(data[0].keys())"
   ]
  },
  {
   "cell_type": "markdown",
   "metadata": {},
   "source": [
    "**Ex 9d**: Two small questions \n",
    "* What time did I create the list of Trending Topics?\n",
    "* Print the names of the trending topics (bonus for using a list comprehension)\n",
    "\n",
    "(Just write the code to produce the answer.)"
   ]
  },
  {
   "cell_type": "code",
   "execution_count": 52,
   "metadata": {},
   "outputs": [
    {
     "name": "stdout",
     "output_type": "stream",
     "text": [
      "2015-08-24T08:36:54Z\n",
      "['#rfcvff', '#EFBFCM', '#bifsje', 'nordstrand', '#WhyILoveLiam', '#lv2015', 'Harald Nielsen', 'Fnatic', 'Nash', 'kjeldsen']\n"
     ]
    }
   ],
   "source": [
    "print(data[0][\"as_of\"])\n",
    "print([i[\"name\"] for i in  data[0][\"trends\"]])"
   ]
  },
  {
   "cell_type": "markdown",
   "metadata": {},
   "source": [
    "**Ex 9e**: One more small question\n",
    "* What's going on with all of the `%22` and `%23`? Go on-line and figure it out. Write the answer in your own words. (Hint: It has to do with HTML URL encoding)"
   ]
  },
  {
   "cell_type": "markdown",
   "metadata": {},
   "source": [
    "*[Write your answer to **Ex 9e** here]*"
   ]
  },
  {
   "cell_type": "markdown",
   "metadata": {
    "collapsed": true
   },
   "source": [
    "[this link explains it](https://www.w3schools.com/tags/ref_urlencode.asp)\n",
    "it is basically an encoding of \" -- %22 and # -- %23"
   ]
  },
  {
   "cell_type": "code",
   "execution_count": null,
   "metadata": {},
   "outputs": [],
   "source": []
  }
 ],
 "metadata": {
  "anaconda-cloud": {},
  "kernelspec": {
   "display_name": "Python 3",
   "language": "python",
   "name": "python3"
  },
  "language_info": {
   "codemirror_mode": {
    "name": "ipython",
    "version": 3
   },
   "file_extension": ".py",
   "mimetype": "text/x-python",
   "name": "python",
   "nbconvert_exporter": "python",
   "pygments_lexer": "ipython3",
   "version": "3.7.3"
  }
 },
 "nbformat": 4,
 "nbformat_minor": 1
}
